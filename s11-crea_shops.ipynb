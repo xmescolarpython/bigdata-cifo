{
 "cells": [
  {
   "cell_type": "code",
   "execution_count": 3,
   "id": "3b010c19-8b37-436b-844b-90bc683eabc6",
   "metadata": {},
   "outputs": [],
   "source": [
    "from random import randint, uniform\n",
    "\n",
    "# -------- Variables Globals : valors finals\n",
    "# 3  botigues * 10 anys * 12 mesos * 30 dies * 12 hores * 6 intervals \n",
    "# * 5 venedors * 100 productes =  388.800.000,00 registres \n",
    "shops = 3; years = 10; months = 12; days = 30; hours = 12; minutes = 60\n",
    "vendors = 5; products = 100\n",
    "\n",
    "#--------- DEFINICIÓ DE FUNCIONS\n",
    "def obre_arxiu(shop,  year) :\n",
    "    f = open(f\"./dat/shops/sh-{shop}-{year}.csv\", \"w\", encoding=\"UTF-8\")\n",
    "    f.write (\"shop,year,month,day,time,vendor,id_prod,quanty, price\\n\")\n",
    "    return (f)\n",
    "\n",
    "def crea_linea(f, shop, year, month, day) :\n",
    "    linea = (\"{:02d},\"*4).format(shop, year, month, day)\n",
    "    for hour in range(9, hours +9) :\n",
    "        for minut in range (0, minutes, 10) :\n",
    "            for vendor in range (1, vendors +1) :\n",
    "                for product in range (1, products+1) :\n",
    "                    linea1 = \"{:02d}:{:02d},\".format(hour, minut)\n",
    "                    linea1 += (\"{:02d},\"*3).format(vendor, product, randint(1,5))\n",
    "                    linea1 += \"5.0\" # \"{3.1}\".format(uniform(1,10))  #price linea1+=\"5.0\"\n",
    "                    f.write (linea+linea1+'\\n')\n",
    "\n",
    "#--------- INICI DEL PROGRAMA\n",
    "# -------- Variables Globals : valors provisionals  per proves\n",
    "shops = 2; years = 2; months = 2; days = 2; hours = 2; minutes = 20\n",
    "vendors = 2; products = 2\n",
    "\n",
    "for shop in range(1, shops+1) :\n",
    "    for year in range(2020, years+2020) :\n",
    "        f = obre_arxiu(shop,  year)\n",
    "        for month in range(1, months+1) :\n",
    "            for day in range(1, days+1) :\n",
    "                crea_linea(f, shop, year, month, day)\n",
    "        f.close()\n",
    "#------------------------------------\n",
    "                "
   ]
  },
  {
   "cell_type": "code",
   "execution_count": null,
   "id": "5d5f179f-41a0-472f-a48e-9d6a7332e8fd",
   "metadata": {},
   "outputs": [],
   "source": []
  }
 ],
 "metadata": {
  "kernelspec": {
   "display_name": "Python 3 (ipykernel)",
   "language": "python",
   "name": "python3"
  },
  "language_info": {
   "codemirror_mode": {
    "name": "ipython",
    "version": 3
   },
   "file_extension": ".py",
   "mimetype": "text/x-python",
   "name": "python",
   "nbconvert_exporter": "python",
   "pygments_lexer": "ipython3",
   "version": "3.10.9"
  }
 },
 "nbformat": 4,
 "nbformat_minor": 5
}
