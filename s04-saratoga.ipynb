{
 "cells": [
  {
   "cell_type": "code",
   "execution_count": 6,
   "id": "a355bc9c-fca3-407c-a674-88adc2ff35ae",
   "metadata": {},
   "outputs": [
    {
     "name": "stderr",
     "output_type": "stream",
     "text": [
      "Fitting 9 distributions: 100%|██████████| 9/9 [00:00<00:00, 18.48it/s]\n"
     ]
    }
   ],
   "source": [
    "from fitter import Fitter\n",
    "from scipy import stats\n",
    "# Creen dades fictícies aleatòries però seguint la funció gamma \n",
    "data = stats.gamma.rvs(2, loc=1.5, scale=2, size=10000)\n",
    "# Ara analitzarem les dades i veure’m quina d’aquestes distriducions ens assigna\n",
    "distrib = ['cauchy', 'chi2', 'expon', 'exponpow', 'gamma', 'norm', 'powerlaw', 'beta', 'logistic']\n",
    "f = Fitter(data, distributions=distrib)\n",
    "f.fit()"
   ]
  },
  {
   "cell_type": "code",
   "execution_count": 7,
   "id": "7bc3b5ea-da73-469c-b964-cb728656b2c0",
   "metadata": {},
   "outputs": [
    {
     "name": "stdout",
     "output_type": "stream",
     "text": [
      "Defaulting to user installation because normal site-packages is not writeable\n",
      "Requirement already satisfied: fitter in c:\\users\\alumne_mati1\\appdata\\roaming\\python\\python310\\site-packages (1.5.2)\n",
      "Requirement already satisfied: matplotlib in c:\\programdata\\anaconda3\\lib\\site-packages (from fitter) (3.7.0)\n",
      "Requirement already satisfied: click in c:\\programdata\\anaconda3\\lib\\site-packages (from fitter) (8.0.4)\n",
      "Requirement already satisfied: tqdm in c:\\programdata\\anaconda3\\lib\\site-packages (from fitter) (4.64.1)\n",
      "Requirement already satisfied: numpy in c:\\programdata\\anaconda3\\lib\\site-packages (from fitter) (1.23.5)\n",
      "Requirement already satisfied: scipy>=0.18 in c:\\programdata\\anaconda3\\lib\\site-packages (from fitter) (1.10.0)\n",
      "Requirement already satisfied: joblib in c:\\programdata\\anaconda3\\lib\\site-packages (from fitter) (1.1.1)\n",
      "Requirement already satisfied: pandas in c:\\programdata\\anaconda3\\lib\\site-packages (from fitter) (1.5.3)\n",
      "Requirement already satisfied: colorama in c:\\programdata\\anaconda3\\lib\\site-packages (from click->fitter) (0.4.6)\n",
      "Requirement already satisfied: pillow>=6.2.0 in c:\\programdata\\anaconda3\\lib\\site-packages (from matplotlib->fitter) (9.4.0)\n",
      "Requirement already satisfied: python-dateutil>=2.7 in c:\\programdata\\anaconda3\\lib\\site-packages (from matplotlib->fitter) (2.8.2)\n",
      "Requirement already satisfied: packaging>=20.0 in c:\\programdata\\anaconda3\\lib\\site-packages (from matplotlib->fitter) (22.0)\n",
      "Requirement already satisfied: cycler>=0.10 in c:\\programdata\\anaconda3\\lib\\site-packages (from matplotlib->fitter) (0.11.0)\n",
      "Requirement already satisfied: contourpy>=1.0.1 in c:\\programdata\\anaconda3\\lib\\site-packages (from matplotlib->fitter) (1.0.5)\n",
      "Requirement already satisfied: fonttools>=4.22.0 in c:\\programdata\\anaconda3\\lib\\site-packages (from matplotlib->fitter) (4.25.0)\n",
      "Requirement already satisfied: kiwisolver>=1.0.1 in c:\\programdata\\anaconda3\\lib\\site-packages (from matplotlib->fitter) (1.4.4)\n",
      "Requirement already satisfied: pyparsing>=2.3.1 in c:\\programdata\\anaconda3\\lib\\site-packages (from matplotlib->fitter) (3.0.9)\n",
      "Requirement already satisfied: pytz>=2020.1 in c:\\programdata\\anaconda3\\lib\\site-packages (from pandas->fitter) (2022.7)\n",
      "Requirement already satisfied: six>=1.5 in c:\\programdata\\anaconda3\\lib\\site-packages (from python-dateutil>=2.7->matplotlib->fitter) (1.16.0)\n",
      "Note: you may need to restart the kernel to use updated packages.\n"
     ]
    }
   ],
   "source": [
    "pip install fitter"
   ]
  },
  {
   "cell_type": "code",
   "execution_count": 8,
   "id": "6039d2d5-5b3b-49dc-9088-e42f45f6095f",
   "metadata": {},
   "outputs": [
    {
     "data": {
      "text/html": [
       "<div>\n",
       "<style scoped>\n",
       "    .dataframe tbody tr th:only-of-type {\n",
       "        vertical-align: middle;\n",
       "    }\n",
       "\n",
       "    .dataframe tbody tr th {\n",
       "        vertical-align: top;\n",
       "    }\n",
       "\n",
       "    .dataframe thead th {\n",
       "        text-align: right;\n",
       "    }\n",
       "</style>\n",
       "<table border=\"1\" class=\"dataframe\">\n",
       "  <thead>\n",
       "    <tr style=\"text-align: right;\">\n",
       "      <th></th>\n",
       "      <th>sumsquare_error</th>\n",
       "      <th>aic</th>\n",
       "      <th>bic</th>\n",
       "      <th>kl_div</th>\n",
       "      <th>ks_statistic</th>\n",
       "      <th>ks_pvalue</th>\n",
       "    </tr>\n",
       "  </thead>\n",
       "  <tbody>\n",
       "    <tr>\n",
       "      <th>beta</th>\n",
       "      <td>0.001815</td>\n",
       "      <td>1038.256304</td>\n",
       "      <td>-155182.952624</td>\n",
       "      <td>inf</td>\n",
       "      <td>0.005618</td>\n",
       "      <td>9.087001e-01</td>\n",
       "    </tr>\n",
       "    <tr>\n",
       "      <th>chi2</th>\n",
       "      <td>0.001818</td>\n",
       "      <td>1034.996325</td>\n",
       "      <td>-155178.529559</td>\n",
       "      <td>inf</td>\n",
       "      <td>0.005682</td>\n",
       "      <td>9.015615e-01</td>\n",
       "    </tr>\n",
       "    <tr>\n",
       "      <th>gamma</th>\n",
       "      <td>0.001818</td>\n",
       "      <td>1035.006668</td>\n",
       "      <td>-155178.479654</td>\n",
       "      <td>inf</td>\n",
       "      <td>0.005683</td>\n",
       "      <td>9.013621e-01</td>\n",
       "    </tr>\n",
       "    <tr>\n",
       "      <th>exponpow</th>\n",
       "      <td>0.042989</td>\n",
       "      <td>1506.470947</td>\n",
       "      <td>-123543.965232</td>\n",
       "      <td>inf</td>\n",
       "      <td>0.060064</td>\n",
       "      <td>8.376704e-32</td>\n",
       "    </tr>\n",
       "    <tr>\n",
       "      <th>logistic</th>\n",
       "      <td>0.046251</td>\n",
       "      <td>1286.060500</td>\n",
       "      <td>-122821.762594</td>\n",
       "      <td>inf</td>\n",
       "      <td>0.087167</td>\n",
       "      <td>1.478342e-66</td>\n",
       "    </tr>\n",
       "    <tr>\n",
       "      <th>cauchy</th>\n",
       "      <td>0.059983</td>\n",
       "      <td>939.272528</td>\n",
       "      <td>-120221.963648</td>\n",
       "      <td>inf</td>\n",
       "      <td>0.142832</td>\n",
       "      <td>1.782142e-178</td>\n",
       "    </tr>\n",
       "    <tr>\n",
       "      <th>norm</th>\n",
       "      <td>0.062479</td>\n",
       "      <td>1751.777290</td>\n",
       "      <td>-119814.199679</td>\n",
       "      <td>inf</td>\n",
       "      <td>0.094296</td>\n",
       "      <td>7.760766e-78</td>\n",
       "    </tr>\n",
       "    <tr>\n",
       "      <th>expon</th>\n",
       "      <td>0.113600</td>\n",
       "      <td>875.556480</td>\n",
       "      <td>-113835.728001</td>\n",
       "      <td>inf</td>\n",
       "      <td>0.136574</td>\n",
       "      <td>3.738420e-163</td>\n",
       "    </tr>\n",
       "    <tr>\n",
       "      <th>powerlaw</th>\n",
       "      <td>0.277207</td>\n",
       "      <td>681.893073</td>\n",
       "      <td>-104905.669003</td>\n",
       "      <td>inf</td>\n",
       "      <td>0.319169</td>\n",
       "      <td>0.000000e+00</td>\n",
       "    </tr>\n",
       "  </tbody>\n",
       "</table>\n",
       "</div>"
      ],
      "text/plain": [
       "          sumsquare_error          aic            bic  kl_div  ks_statistic  \\\n",
       "beta             0.001815  1038.256304 -155182.952624     inf      0.005618   \n",
       "chi2             0.001818  1034.996325 -155178.529559     inf      0.005682   \n",
       "gamma            0.001818  1035.006668 -155178.479654     inf      0.005683   \n",
       "exponpow         0.042989  1506.470947 -123543.965232     inf      0.060064   \n",
       "logistic         0.046251  1286.060500 -122821.762594     inf      0.087167   \n",
       "cauchy           0.059983   939.272528 -120221.963648     inf      0.142832   \n",
       "norm             0.062479  1751.777290 -119814.199679     inf      0.094296   \n",
       "expon            0.113600   875.556480 -113835.728001     inf      0.136574   \n",
       "powerlaw         0.277207   681.893073 -104905.669003     inf      0.319169   \n",
       "\n",
       "              ks_pvalue  \n",
       "beta       9.087001e-01  \n",
       "chi2       9.015615e-01  \n",
       "gamma      9.013621e-01  \n",
       "exponpow   8.376704e-32  \n",
       "logistic   1.478342e-66  \n",
       "cauchy    1.782142e-178  \n",
       "norm       7.760766e-78  \n",
       "expon     3.738420e-163  \n",
       "powerlaw   0.000000e+00  "
      ]
     },
     "execution_count": 8,
     "metadata": {},
     "output_type": "execute_result"
    }
   ],
   "source": [
    "f.summary(Nbest=10, plot=False)"
   ]
  },
  {
   "cell_type": "code",
   "execution_count": 9,
   "id": "8c5bcaa6-7980-4c7e-923b-e7f514b3d72c",
   "metadata": {},
   "outputs": [
    {
     "data": {
      "text/plain": [
       "{'beta': {'a': 1.995431110863442,\n",
       "  'b': 791.6797409725309,\n",
       "  'loc': 1.5052950672454308,\n",
       "  'scale': 1600.2017824360928}}"
      ]
     },
     "execution_count": 9,
     "metadata": {},
     "output_type": "execute_result"
    }
   ],
   "source": [
    "f.get_best(method = 'sumsquare_error')"
   ]
  },
  {
   "cell_type": "code",
   "execution_count": null,
   "id": "2c05076a-2bd6-4bf8-a032-03e5bf83fd20",
   "metadata": {},
   "outputs": [],
   "source": []
  }
 ],
 "metadata": {
  "kernelspec": {
   "display_name": "Python 3 (ipykernel)",
   "language": "python",
   "name": "python3"
  },
  "language_info": {
   "codemirror_mode": {
    "name": "ipython",
    "version": 3
   },
   "file_extension": ".py",
   "mimetype": "text/x-python",
   "name": "python",
   "nbconvert_exporter": "python",
   "pygments_lexer": "ipython3",
   "version": "3.10.9"
  }
 },
 "nbformat": 4,
 "nbformat_minor": 5
}
