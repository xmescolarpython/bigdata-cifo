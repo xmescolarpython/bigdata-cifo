{
 "cells": [
  {
   "cell_type": "code",
   "execution_count": 6,
   "id": "3af9015f-d859-4657-88ee-c1e8b9d91c3f",
   "metadata": {},
   "outputs": [
    {
     "data": {
      "image/png": "[encoded data removed]",
      "text/plain": [
       "<Figure size 640x480 with 1 Axes>"
      ]
     },
     "metadata": {},
     "output_type": "display_data"
    }
   ],
   "source": [
    "import numpy as np #Librería numérica\n",
    "import matplotlib.pyplot as plt # Para crear gráficos con matplotlib\n",
    "# %matplotlib inline # Si quieres hacer estos gráficos dentro de un jupyter notebook\n",
    "from sklearn.linear_model import LinearRegression #Regresión Lineal con scikit-learn\n",
    "\n",
    "def f(x):  # función f(x) = 0.1*x + 1.25 + 0.2*Ruido_Gaussiano\n",
    "    np.random.seed(42) # para poder reproducirlo\n",
    "    y = 0.1*x + 1.25 + 0.2*np.random.randn(x.shape[0])\n",
    "    return y\n",
    "\n",
    "x = np.arange(0, 20, 0.5) # generamos valores x de 0 a 20 en intervalos de 0.5\n",
    "y = f(x) # calculamos y a partir de la función que hemos generado\n",
    "\n",
    "# hacemos un gráfico de los datos que hemos generado\n",
    "plt.scatter(x,y,label='data', color='blue')\n",
    "plt.title('Datos');"
   ]
  },
  {
   "cell_type": "code",
   "execution_count": null,
   "id": "6a972e2d-2c71-42de-9961-1de7a42df745",
   "metadata": {},
   "outputs": [],
   "source": []
  },
  {
   "cell_type": "code",
   "execution_count": 7,
   "id": "40bf3aad-00da-40c0-8413-67ffb7b1cfd6",
   "metadata": {},
   "outputs": [
    {
     "name": "stdout",
     "output_type": "stream",
     "text": [
      "w = [0.09183522], b = 1.2858792525736682\n"
     ]
    }
   ],
   "source": [
    "# Importamos la clase de Regresión Lineal de scikit-learn\n",
    "from sklearn.linear_model import LinearRegression \n",
    "\n",
    "regresion_lineal = LinearRegression() # creamos una instancia de LinearRegression\n",
    "\n",
    "# instruimos a la regresión lineal que aprenda de los datos (x,y)\n",
    "regresion_lineal.fit(x.reshape(-1,1), y) \n",
    "\n",
    "# vemos los parámetros que ha estimado la regresión lineal\n",
    "print('w = ' + str(regresion_lineal.coef_) + ', b = ' + str(regresion_lineal.intercept_))\n",
    "\n",
    "# resultado: w = [0.09183522], b = 1.2858792525736682"
   ]
  },
  {
   "cell_type": "code",
   "execution_count": null,
   "id": "d62996ba-f550-4b66-ad26-a741f2e4b231",
   "metadata": {},
   "outputs": [],
   "source": []
  },
  {
   "cell_type": "code",
   "execution_count": 8,
   "id": "a4e0a9a0-c30d-46e4-aeb4-c4c89335074b",
   "metadata": {},
   "outputs": [
    {
     "name": "stdout",
     "output_type": "stream",
     "text": [
      "[1.74505534]\n"
     ]
    }
   ],
   "source": [
    "# vamos a predicir y = regresion_lineal(5)\n",
    "nuevo_x = np.array([5]) \n",
    "prediccion = regresion_lineal.predict(nuevo_x.reshape(-1,1))\n",
    "print(prediccion)\n",
    "# resultado: [1.7449]"
   ]
  },
  {
   "cell_type": "code",
   "execution_count": 9,
   "id": "401a4a99-2ad3-4c39-9762-dd46bfa4838f",
   "metadata": {},
   "outputs": [
    {
     "name": "stdout",
     "output_type": "stream",
     "text": [
      "Error Cuadrático Medio (MSE) = 0.03318522012927899\n",
      "Raíz del Error Cuadrático Medio (RMSE) = 0.18216810952875093\n"
     ]
    }
   ],
   "source": [
    "# importamos el cálculo del error cuadrático medio (MSE)\n",
    "from sklearn.metrics import mean_squared_error\n",
    "\n",
    "# Predecimos los valores y para los datos usados en el entrenamiento\n",
    "prediccion_entrenamiento = regresion_lineal.predict(x.reshape(-1,1))\n",
    "\n",
    "# Calculamos el Error Cuadrático Medio (MSE = Mean Squared Error)\n",
    "mse = mean_squared_error(y_true = y, y_pred = prediccion_entrenamiento)\n",
    "\n",
    "# La raíz cuadrada del MSE es el RMSE\n",
    "rmse = np.sqrt(mse)\n",
    "print('Error Cuadrático Medio (MSE) = ' + str(mse))\n",
    "print('Raíz del Error Cuadrático Medio (RMSE) = ' + str(rmse))"
   ]
  },
  {
   "cell_type": "code",
   "execution_count": 10,
   "id": "f4bd6985-a6f2-439a-9489-a57d8ae5866b",
   "metadata": {},
   "outputs": [
    {
     "name": "stdout",
     "output_type": "stream",
     "text": [
      "Coeficiente de Determinación R2 = 0.8943593637683117\n"
     ]
    }
   ],
   "source": [
    "# calculamos el coeficiente de determinación R2\n",
    "r2 = regresion_lineal.score(x.reshape(-1,1), y)\n",
    "print('Coeficiente de Determinación R2 = ' + str(r2))"
   ]
  },
  {
   "cell_type": "code",
   "execution_count": null,
   "id": "fdc6fc4e-6a43-4574-981f-87a4a8451dc5",
   "metadata": {},
   "outputs": [],
   "source": []
  },
  {
   "cell_type": "code",
   "execution_count": null,
   "id": "61d0bf61-5faf-43c5-a170-9015465c48d8",
   "metadata": {},
   "outputs": [],
   "source": []
  }
 ],
 "metadata": {
  "kernelspec": {
   "display_name": "Python 3 (ipykernel)",
   "language": "python",
   "name": "python3"
  },
  "language_info": {
   "codemirror_mode": {
    "name": "ipython",
    "version": 3
   },
   "file_extension": ".py",
   "mimetype": "text/x-python",
   "name": "python",
   "nbconvert_exporter": "python",
   "pygments_lexer": "ipython3",
   "version": "3.10.9"
  }
 },
 "nbformat": 4,
 "nbformat_minor": 5
}
